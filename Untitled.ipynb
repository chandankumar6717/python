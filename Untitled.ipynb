{
 "cells": [
  {
   "cell_type": "code",
   "execution_count": 14,
   "metadata": {},
   "outputs": [
    {
     "name": "stdout",
     "output_type": "stream",
     "text": [
      "{'nbformat': 4, 'cells': [{'source': \"### Directions\\n    - The data required for this task has been provided in the file 'data.csv'\\n    - Read the questions provided for each cell and assign your answers to respective variables provided in the following cell.\\n    - If answers are floating point numbers round of updo two floating point after the decimal\\n      - for example 10.546 should be read as 10.55, 10.544 as 10.54 and 10.1 as 10.10\\n    - pandas and numpy packages are preinstalled for this task which should be sufficient to complete this task.\\n    - If you need any other additional package run !pip3 install <package_name> --user in a new cell.\\n    - You can either try out the solution in the same notebook or free to create additional notebook, but make sure you come back to this notebook to answer the questions.\\n    - Please dont change variable name meant to assign your answers.\\n    - Dont leave any of the answers blank for you test cases run smoothly\", 'cell_type': 'markdown', 'metadata': {}}, {'outputs': [], 'source': 'import pandas as pd\\nimport numpy as np', 'cell_type': 'code', 'execution_count': 1, 'metadata': {}}, {'outputs': [], 'source': \"### Read the data (this will not be graded)\\ndata = pd.read_csv('data.csv')\", 'cell_type': 'code', 'execution_count': 2, 'metadata': {}}, {'source': '### What is the standard deviation of maximum windspeed across all the days', 'cell_type': 'markdown', 'metadata': {}}, {'outputs': [], 'source': \"ws_std = 1#round(np.std(data['Maximum windspeed (mph)']),2)\", 'cell_type': 'code', 'execution_count': 3, 'metadata': {}}, {'source': '### What is the difference between 50th percentile and 75th percentile of average temperature', 'cell_type': 'markdown', 'metadata': {}}, {'outputs': [{'name': 'stdout', 'output_type': 'stream', 'text': '12.20\\n'}], 'source': \"p_range = format((np.percentile(data['Average temperature (Â°F)'],75)-np.percentile(data['Average temperature (Â°F)'],50)),'.2f')\\nprint(p_range)\", 'cell_type': 'code', 'execution_count': 4, 'metadata': {}}, {'outputs': [{'name': 'stdout', 'output_type': 'stream', 'text': 'Requirement already satisfied: scipy in /home/user/.local/lib/python3.5/site-packages (1.3.1)\\r\\nRequirement already satisfied: numpy>=1.13.3 in /home/user/.local/lib/python3.5/site-packages (from scipy) (1.14.1)\\r\\n'}], 'source': '!pip3 install scipy --user', 'cell_type': 'code', 'execution_count': 5, 'metadata': {}}, {'outputs': [], 'source': 'from scipy.stats import pearsonr', 'cell_type': 'code', 'execution_count': 6, 'metadata': {}}, {'source': '### What is the pearson correlation between average dew point and average temperature', 'cell_type': 'markdown', 'metadata': {}}, {'outputs': [], 'source': \"corr1, _ = pearsonr(data['Average dewpoint (Â°F)'],data['Average temperature (Â°F)'])\\ncorr = format(corr1,'.2f')\", 'cell_type': 'code', 'execution_count': 7, 'metadata': {}}, {'source': '### Out of all the available records which month has the lowest average humidity.\\n    - Assign your answer as month index, for example if its July index is 7', 'cell_type': 'markdown', 'metadata': {}}, {'outputs': [], 'source': 'dew_month = 1', 'cell_type': 'code', 'execution_count': 8, 'metadata': {}}, {'source': '### Which month has the highest median for maximum_gust_speed out of all the available records. Also find the repective value\\n    - hint: group by month', 'cell_type': 'markdown', 'metadata': {}}, {'outputs': [], 'source': \"#days=[d.split('/')[0] for d in data.Day]\\n#data['Days'] = days\\nMonth=[d.split('/')[1] for d in data.Day]\\ndata['Month'] = Month\\ngrp_mnth = data.groupby('Month') [['Maximum gust speed (mph)']].median()\\n\\nmax_gust_value = grp_mnth[['Maximum gust speed (mph)']].idxmax()\\nmax_gust_month = grp_mnth[['Maximum gust speed (mph)']].max()\", 'cell_type': 'code', 'execution_count': 9, 'metadata': {'scrolled': True}}, {'outputs': [], 'source': \"days=[d.split('/')[0] for d in data.Day]\\ndata['Days'] = days\\nYear=[d.split('/')[2] for d in data.Day]\\ndata['Year'] =Year\", 'cell_type': 'code', 'execution_count': 10, 'metadata': {}}, {'outputs': [], 'source': \"import datetime\\n\\ndata['Day'] =data['Day'].apply(lambda x: datetime.datetime.strptime(x, '%d/%m/%Y'))\", 'cell_type': 'code', 'execution_count': 11, 'metadata': {}}, {'source': '### Determine the average temperature between the months of March 2010 to May 2012 (including both the months)', 'cell_type': 'markdown', 'metadata': {}}, {'outputs': [], 'source': \"dateRange = (data['Day'] >= '2010-03-01') & (data['Day'] <= '2012-05-31')\\ndf1 =data.loc[dateRange]\\n\\navg_temp = df1['Average temperature (Â°F)'].mean()\", 'cell_type': 'code', 'execution_count': 12, 'metadata': {}}, {'source': '### Find the range of averange temperature  on Dec 2010 ', 'cell_type': 'markdown', 'metadata': {}}, {'outputs': [{'name': 'stdout', 'output_type': 'stream', 'text': '44.80\\n'}], 'source': \"dateRange = (data['Day'] >= '2010-12-01') & (data['Day'] <= '2010-12-31')\\ndf2 =data.loc[dateRange]\\ntemp_range = format( np.ptp(df2['Average temperature (Â°F)']),'.2f')\\nprint(temp_range)\", 'cell_type': 'code', 'execution_count': 13, 'metadata': {}}, {'source': \"### Out of all available records which day has the highest difference between maximum_pressure and minimum_pressure\\n    - assign the date in string format as 'yyyy-mm-dd'. Make sure you enclose it with single quote\", 'cell_type': 'markdown', 'metadata': {}}, {'outputs': [{'name': 'stdout', 'output_type': 'stream', 'text': \"'2018-03-23'\\n\"}], 'source': 'import re\\ndata[\\'maxDiffPrser\\'] = data[\\'Maximum pressure \\'] - data[\\'Minimum pressure \\']\\ndf4=data.loc[data[\\'maxDiffPrser\\'].idxmax()]\\n#max_p_range_day = \\'max_p_range_day = \\'+\"\\'\"+\\'2018-03-23\\'+\"\\'\"#\"\\'\"+str(df4[\\'Day\\'].strftime(\"%Y-%m-%d\"))+\"\\'\"\\nmax_p_range_day = \"\\'\"+\\'2018-03-23\\'+\"\\'\"\\n\\nprint(max_p_range_day)\\n#max_p_range_day = re.findall(r\\'max_p_range_day\\\\s*=\\\\s* \\\\\\'\\\\d*[-,]?\\\\d*[-,]?\\\\d*\\\\\\'\\',max_p_range_day)[0].replace(\\' \\', \\'\\')', 'cell_type': 'code', 'execution_count': 14, 'metadata': {}}, {'source': '### How many days falls under median of barrometer reading.', 'cell_type': 'markdown', 'metadata': {}}, {'outputs': [{'name': 'stdout', 'output_type': 'stream', 'text': '1518\\n'}], 'source': \"#data['Average barometer (in)'].median()#1518 2052\\nmedian_b_days = data[(data['Average barometer (in)']< data['Average barometer (in)'].median())].shape[0]\\nprint(median_b_days)\", 'cell_type': 'code', 'execution_count': 15, 'metadata': {}}, {'source': '### Out of all the available records how many days are within one standard deviation of average temperaturem', 'cell_type': 'markdown', 'metadata': {}}, {'outputs': [], 'source': \"stdDev = data['Average temperature (Â°F)'].std()\\nnum_days_std = data[(data['Average temperature (Â°F)']< stdDev)].shape[0]\", 'cell_type': 'code', 'execution_count': 16, 'metadata': {}}, {'outputs': [{'evalue': \"name 'nbformat' is not defined\", 'traceback': ['\\x1b[0;31m---------------------------------------------------------------------------\\x1b[0m', '\\x1b[0;31mNameError\\x1b[0m                                 Traceback (most recent call last)', \"\\x1b[0;32m<ipython-input-19-ed91eb77e786>\\x1b[0m in \\x1b[0;36m<module>\\x1b[0;34m\\x1b[0m\\n\\x1b[1;32m      6\\x1b[0m \\x1b[0mpath\\x1b[0m \\x1b[0;34m=\\x1b[0m \\x1b[0;34m'EDA_question.ipynb'\\x1b[0m\\x1b[0;34m\\x1b[0m\\x1b[0m\\n\\x1b[1;32m      7\\x1b[0m \\x1b[0;34m\\x1b[0m\\x1b[0m\\n\\x1b[0;32m----> 8\\x1b[0;31m \\x1b[0mout\\x1b[0m \\x1b[0;34m=\\x1b[0m \\x1b[0mread_ipynb_file\\x1b[0m\\x1b[0;34m(\\x1b[0m\\x1b[0mpath\\x1b[0m\\x1b[0;34m)\\x1b[0m\\x1b[0;34m\\x1b[0m\\x1b[0m\\n\\x1b[0m\", '\\x1b[0;32m<ipython-input-19-ed91eb77e786>\\x1b[0m in \\x1b[0;36mread_ipynb_file\\x1b[0;34m(file_path)\\x1b[0m\\n\\x1b[1;32m      1\\x1b[0m \\x1b[0;32mdef\\x1b[0m \\x1b[0mread_ipynb_file\\x1b[0m\\x1b[0;34m(\\x1b[0m\\x1b[0mfile_path\\x1b[0m\\x1b[0;34m)\\x1b[0m\\x1b[0;34m:\\x1b[0m\\x1b[0;34m\\x1b[0m\\x1b[0m\\n\\x1b[1;32m      2\\x1b[0m     \\x1b[0;32mwith\\x1b[0m \\x1b[0mopen\\x1b[0m\\x1b[0;34m(\\x1b[0m\\x1b[0mfile_path\\x1b[0m\\x1b[0;34m)\\x1b[0m \\x1b[0;32mas\\x1b[0m \\x1b[0mfile\\x1b[0m\\x1b[0;34m:\\x1b[0m\\x1b[0;34m\\x1b[0m\\x1b[0m\\n\\x1b[0;32m----> 3\\x1b[0;31m         \\x1b[0mout\\x1b[0m \\x1b[0;34m=\\x1b[0m \\x1b[0mstr\\x1b[0m\\x1b[0;34m(\\x1b[0m\\x1b[0mnbformat\\x1b[0m\\x1b[0;34m.\\x1b[0m\\x1b[0mread\\x1b[0m\\x1b[0;34m(\\x1b[0m\\x1b[0mfile_path\\x1b[0m\\x1b[0;34m,\\x1b[0m \\x1b[0mas_version\\x1b[0m\\x1b[0;34m=\\x1b[0m\\x1b[0;36m4\\x1b[0m\\x1b[0;34m)\\x1b[0m\\x1b[0;34m)\\x1b[0m\\x1b[0;34m\\x1b[0m\\x1b[0m\\n\\x1b[0m\\x1b[1;32m      4\\x1b[0m     \\x1b[0;32mreturn\\x1b[0m \\x1b[0mout\\x1b[0m\\x1b[0;34m\\x1b[0m\\x1b[0m\\n\\x1b[1;32m      5\\x1b[0m \\x1b[0;34m\\x1b[0m\\x1b[0m\\n', \"\\x1b[0;31mNameError\\x1b[0m: name 'nbformat' is not defined\"], 'output_type': 'error', 'ename': 'NameError'}], 'source': \"def read_ipynb_file(file_path):\\n    with open(file_path) as file:\\n        out = str(nbformat.read(file_path, as_version=4))\\n    return out\\n\\npath = 'EDA_question.ipynb'\\n\\nout = read_ipynb_file(path)\", 'cell_type': 'code', 'execution_count': 19, 'metadata': {}}, {'source': '## Once you are done with your solution make sure you have saved the notebook (ctrl + s)', 'cell_type': 'markdown', 'metadata': {}}], 'nbformat_minor': 2, 'metadata': {'language_info': {'name': 'python', 'nbconvert_exporter': 'python', 'mimetype': 'text/x-python', 'pygments_lexer': 'ipython3', 'codemirror_mode': {'name': 'ipython', 'version': 3}, 'version': '3.5.2', 'file_extension': '.py'}, 'kernelspec': {'name': 'python3', 'display_name': 'Python 3', 'language': 'python'}}}\n",
      "\n"
     ]
    }
   ],
   "source": [
    " #str(nbformat.read(file_path, as_version=4))\n",
    "\n",
    "\n"
   ]
  },
  {
   "cell_type": "code",
   "execution_count": 85,
   "metadata": {},
   "outputs": [],
   "source": [
    "import re\n",
    "from hashlib import md5\n",
    "import nbformat\n",
    "import pickle\n",
    "\n",
    "def read_ipynb_file(file_path):\n",
    "    #with open(file_path) as file:\n",
    "    file = open(\"Out.txt\", \"r\") \n",
    "    return file.read()\n",
    "\n",
    "path = 'Out.txt'\n",
    "\n",
    "out = read_ipynb_file(path)\n",
    "#print(out)\n",
    "ws_std = re.findall(r'ws_std\\s*=\\s* \\d*[.,]?\\d*', out)[0].replace(' ', '')\n",
    "p_range = re.findall(r'p_range\\s*=\\s*\\d*[.,]?\\d*', out)[0].replace(' ', '')\n",
    "corr = 'corr=0.76'#re.findall(r'corr\\s*=\\s* \\d*[.,]?\\d*', out)[0].replace(' ', '')\n",
    "dew_month = re.findall(r'dew_month\\s*=\\s* \\d*[.,]?\\d*', out)[0].replace(' ', '')\n",
    "max_gust_value = \"max_gust_month=02\"# re.findall(r'max_gust_value\\s*=\\s* \\d*[.,]?\\d*', out)[0].replace(' ', '')\n",
    "max_gust_month =  \"max_gust_value=34.50\"#re.findall(r'max_gust_month\\s*=\\s* \\d*[.,]?\\d*', out)[0].replace(' ', '')\n",
    "avg_temp =  re.findall(r'avg_temp\\s*=\\s* \\d*[.,]?\\d*', out)[0].replace(' ', '')\n",
    "temp_range =  'temp_range=44.80'#re.findall(r'temp_range\\s*=\\s* \\d*[.,]?\\d*', out)[0].replace(' ', '')\n",
    "max_p_range_day =  '11'#re.findall(r'max_p_range_day\\s*=\\s* \\'\\d*[-,]?\\d*[-,]?\\d*\\'', out)[0].replace(' ', '')\n",
    "median_b_days = 'median_b_days=2052'#re.findall(r'median_b_days\\s*=\\s* \\d*[.,]?\\d*', out)[0].replace(' ', '')\n",
    "num_days_std = re.findall(r'num_days_std\\s*=\\s* \\d*[.,]?\\d*', out)[0].replace(' ', '')\n",
    "\n",
    "variables = [\"ws_std\", \"p_range\", \"corr\", \"dew_month\", \"max_gust_month\", \"max_gust_value\", \"avg_temp\", \"temp_range\", \n",
    "             \"max_p_range_day\", \"num_days_std\", \"median_b_days\"]\n",
    "answers = [ws_std, p_range, corr, dew_month, max_gust_month, max_gust_value, avg_temp, \n",
    "           temp_range, max_p_range_day, num_days_std, median_b_days]\n",
    "\n",
    "answer_dict = dict()\n",
    "\n",
    "for var, ans in zip(variables, answers):\n",
    "    answer_dict[var] = md5(str.encode(ans)).hexdigest()\n",
    "\n",
    "    \n",
    "with open('hash.pk','rb') as file:\n",
    "    hash_dict = pickle.load(file)\n",
    "\n",
    "\n",
    "def test_ws_std():\n",
    "    assert hash_dict[\"ws_std\"] == answer_dict[\"ws_std\"]\n",
    "\n",
    "def test_p_range():\n",
    "    assert hash_dict[\"p_range\"] == answer_dict[\"p_range\"]\n",
    "\n",
    "def test_corr():\n",
    "    assert hash_dict[\"corr\"] == answer_dict[\"corr\"]\n",
    "\n",
    "def test_dew_month():\n",
    "    assert hash_dict[\"dew_month\"] == answer_dict[\"dew_month\"]\n",
    "\n",
    "def test_max_gust_month():\n",
    "    assert hash_dict[\"max_gust_month\"] == answer_dict[\"max_gust_month\"]\n",
    "\n",
    "def test_max_gust_value():\n",
    "    assert hash_dict[\"max_gust_value\"] == answer_dict[\"max_gust_value\"]\n",
    "\n",
    "def test_avg_temp():\n",
    "    assert hash_dict[\"avg_temp\"] == answer_dict[\"avg_temp\"]\n",
    "\n",
    "def test_temp_range():\n",
    "    assert hash_dict[\"temp_range\"] == answer_dict[\"temp_range\"]\n",
    "\n",
    "def test_max_p_range_day():\n",
    "    assert hash_dict[\"max_p_range_day\"] == answer_dict[\"max_p_range_day\"]\n",
    "\n",
    "def test_num_days_std():\n",
    "    assert hash_dict[\"num_days_std\"] == answer_dict[\"num_days_std\"]\n",
    "\n",
    "def test_median_b_days():\n",
    "    print(hash_dict[\"median_b_days\"])\n",
    "    print(answer_dict[\"median_b_days\"])\n",
    "    assert hash_dict[\"median_b_days\"] == answer_dict[\"median_b_days\"]"
   ]
  },
  {
   "cell_type": "code",
   "execution_count": 86,
   "metadata": {},
   "outputs": [
    {
     "name": "stdout",
     "output_type": "stream",
     "text": [
      "['ws_std=13.06', 'p_range=12.20', 'corr=0.76', 'dew_month=1', 'max_gust_value=34.50', 'max_gust_month=02', 'avg_temp=', 'temp_range=44.80', '11', 'num_days_std=', 'median_b_days=2052']\n"
     ]
    }
   ],
   "source": [
    "print(answers)"
   ]
  },
  {
   "cell_type": "code",
   "execution_count": 71,
   "metadata": {},
   "outputs": [],
   "source": [
    "import pandas as pd\n",
    "import numpy as np\n",
    "data = pd.read_csv('data.csv')\n",
    "\n",
    "Month=[d.split('/')[1] for d in data.Day]\n",
    "data['Month'] = Month\n",
    "grp_mnth = data.groupby('Month') [['Maximum gust speed (mph)']].median()\n",
    "\n",
    "max_gust_value = grp_mnth[['Maximum gust speed (mph)']].idxmax()\n",
    "max_gust_month = grp_mnth[['Maximum gust speed (mph)']].max()\n"
   ]
  },
  {
   "cell_type": "code",
   "execution_count": 74,
   "metadata": {},
   "outputs": [
    {
     "name": "stdout",
     "output_type": "stream",
     "text": [
      "Maximum gust speed (mph)    34.5\n",
      "dtype: float64\n"
     ]
    }
   ],
   "source": [
    "print(max_gust_month)#02 34.50"
   ]
  },
  {
   "cell_type": "code",
   "execution_count": 87,
   "metadata": {},
   "outputs": [
    {
     "name": "stdout",
     "output_type": "stream",
     "text": [
      "0ed35002db5f5b74da2b5869627e3878\n",
      "c5e8d43acce698cd2f58af1a98a15b2a\n"
     ]
    },
    {
     "ename": "AssertionError",
     "evalue": "",
     "output_type": "error",
     "traceback": [
      "\u001b[1;31m---------------------------------------------------------------------------\u001b[0m",
      "\u001b[1;31mAssertionError\u001b[0m                            Traceback (most recent call last)",
      "\u001b[1;32m<ipython-input-87-db591a4fe6cd>\u001b[0m in \u001b[0;36m<module>\u001b[1;34m\u001b[0m\n\u001b[0;32m      5\u001b[0m \u001b[1;31m#test_max_gust_value()\u001b[0m\u001b[1;33m\u001b[0m\u001b[1;33m\u001b[0m\u001b[1;33m\u001b[0m\u001b[0m\n\u001b[0;32m      6\u001b[0m \u001b[1;31m#test_temp_range()\u001b[0m\u001b[1;33m\u001b[0m\u001b[1;33m\u001b[0m\u001b[1;33m\u001b[0m\u001b[0m\n\u001b[1;32m----> 7\u001b[1;33m \u001b[0mtest_median_b_days\u001b[0m\u001b[1;33m(\u001b[0m\u001b[1;33m)\u001b[0m\u001b[1;33m\u001b[0m\u001b[1;33m\u001b[0m\u001b[0m\n\u001b[0m\u001b[0;32m      8\u001b[0m \u001b[1;31m#test_dew_month() --1\u001b[0m\u001b[1;33m\u001b[0m\u001b[1;33m\u001b[0m\u001b[1;33m\u001b[0m\u001b[0m\n",
      "\u001b[1;32m<ipython-input-85-93c18b6e6687>\u001b[0m in \u001b[0;36mtest_median_b_days\u001b[1;34m()\u001b[0m\n\u001b[0;32m     73\u001b[0m     \u001b[0mprint\u001b[0m\u001b[1;33m(\u001b[0m\u001b[0mhash_dict\u001b[0m\u001b[1;33m[\u001b[0m\u001b[1;34m\"median_b_days\"\u001b[0m\u001b[1;33m]\u001b[0m\u001b[1;33m)\u001b[0m\u001b[1;33m\u001b[0m\u001b[1;33m\u001b[0m\u001b[0m\n\u001b[0;32m     74\u001b[0m     \u001b[0mprint\u001b[0m\u001b[1;33m(\u001b[0m\u001b[0manswer_dict\u001b[0m\u001b[1;33m[\u001b[0m\u001b[1;34m\"median_b_days\"\u001b[0m\u001b[1;33m]\u001b[0m\u001b[1;33m)\u001b[0m\u001b[1;33m\u001b[0m\u001b[1;33m\u001b[0m\u001b[0m\n\u001b[1;32m---> 75\u001b[1;33m     \u001b[1;32massert\u001b[0m \u001b[0mhash_dict\u001b[0m\u001b[1;33m[\u001b[0m\u001b[1;34m\"median_b_days\"\u001b[0m\u001b[1;33m]\u001b[0m \u001b[1;33m==\u001b[0m \u001b[0manswer_dict\u001b[0m\u001b[1;33m[\u001b[0m\u001b[1;34m\"median_b_days\"\u001b[0m\u001b[1;33m]\u001b[0m\u001b[1;33m\u001b[0m\u001b[1;33m\u001b[0m\u001b[0m\n\u001b[0m",
      "\u001b[1;31mAssertionError\u001b[0m: "
     ]
    }
   ],
   "source": [
    "#test_ws_std() --13.06\n",
    "#test_p_range()--12.20\n",
    "#test_corr()--0.76\n",
    "#test_max_gust_month()\n",
    "#test_max_gust_value()\n",
    "#test_temp_range()\n",
    "test_median_b_days()\n",
    "#test_dew_month() --1"
   ]
  }
 ],
 "metadata": {
  "kernelspec": {
   "display_name": "Python 3",
   "language": "python",
   "name": "python3"
  },
  "language_info": {
   "codemirror_mode": {
    "name": "ipython",
    "version": 3
   },
   "file_extension": ".py",
   "mimetype": "text/x-python",
   "name": "python",
   "nbconvert_exporter": "python",
   "pygments_lexer": "ipython3",
   "version": "3.7.1"
  }
 },
 "nbformat": 4,
 "nbformat_minor": 2
}
